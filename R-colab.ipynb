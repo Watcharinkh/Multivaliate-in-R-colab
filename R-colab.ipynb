{
  "nbformat": 4,
  "nbformat_minor": 0,
  "metadata": {
    "colab": {
      "name": "Untitled6.ipynb",
      "private_outputs": true,
      "provenance": [],
      "authorship_tag": "ABX9TyP6mMOa8KAeI9avcGSbGHDv",
      "include_colab_link": true
    },
    "kernelspec": {
      "name": "ir",
      "display_name": "R"
    },
    "language_info": {
      "name": "R"
    }
  },
  "cells": [
    {
      "cell_type": "markdown",
      "metadata": {
        "id": "view-in-github",
        "colab_type": "text"
      },
      "source": [
        "<a href=\"https://colab.research.google.com/github/Watcharinkh/Multivaliate-in-R-colab/blob/main/R-colab.ipynb\" target=\"_parent\"><img src=\"https://colab.research.google.com/assets/colab-badge.svg\" alt=\"Open In Colab\"/></a>"
      ]
    },
    {
      "cell_type": "markdown",
      "metadata": {
        "id": "pmuWO8Qzsi6M"
      },
      "source": [
        "#Unit 3"
      ]
    },
    {
      "cell_type": "code",
      "metadata": {
        "id": "t85oDFHaV2UA"
      },
      "source": [
        "data = read.csv('sample_data/Data_Facebook_R.csv',header = 1)\n",
        "head(data)"
      ],
      "execution_count": null,
      "outputs": []
    },
    {
      "cell_type": "code",
      "metadata": {
        "id": "iBGq53xSk5oF"
      },
      "source": [
        "attach(data)"
      ],
      "execution_count": null,
      "outputs": []
    },
    {
      "cell_type": "markdown",
      "metadata": {
        "id": "8GqtySWSsuTN"
      },
      "source": [
        "##Single sample"
      ]
    },
    {
      "cell_type": "code",
      "metadata": {
        "id": "-pZybEQPW2Bp"
      },
      "source": [
        "data1 = data.frame(AGE,SALARY,INTERNET_PAY)\n",
        "data1"
      ],
      "execution_count": null,
      "outputs": []
    },
    {
      "cell_type": "code",
      "metadata": {
        "id": "wQFdUYz8ZblA"
      },
      "source": [
        "mu=matrix(c(22.75,17888,582),3,1) ###กำหนดขึ้นมา\n",
        "X=data1\n",
        "Xbar=colMeans(X)\n",
        "Xbar=matrix(Xbar,3,1)\n",
        "S=cov(X)\n",
        "n=200\n",
        "p=3\n",
        "alpha=0.05\n",
        "#####################\n",
        "T2=n*t(Xbar-mu)%*%solve(S)%*%(Xbar-mu)\n",
        "paste(\"Hotelling’s T2:\",T2)\n",
        "#####################\n",
        "Cri_val=((n-1)*p)/(n-p)*qf(1-alpha,p,n-p)\n",
        "paste(\"Critical value: \",Cri_val)\n",
        "####################\n",
        "if(T2 < Cri_val){\n",
        "      paste(\"We do not reject Ho\",alpha)\n",
        "}else{\n",
        "      paste(\"We reject Ho\",alpha)\n",
        "}"
      ],
      "execution_count": null,
      "outputs": []
    },
    {
      "cell_type": "code",
      "metadata": {
        "id": "gIwYlx2Kbbg0"
      },
      "source": [
        "L1=Xbar[1,1]-(sqrt(((n-1)*p)/(n-p)*qf(1-alpha,p,n-p))*sqrt(S[1,1]/n))\n",
        "U1=Xbar[1,1]+(sqrt(((n-1)*p)/(n-p)*qf(1-alpha,p,n-p))*sqrt(S[1,1]/n))\n",
        "paste(\"The lower bound L1: \",L1, \"/ The upper bound U1: \",U1)\n",
        "\n",
        "L2=Xbar[2,1]-(sqrt(((n-1)*p)/(n-p)*qf(1-alpha,p,n-p))*sqrt(S[2,1]/n))\n",
        "U2=Xbar[2,1]+(sqrt(((n-1)*p)/(n-p)*qf(1-alpha,p,n-p))*sqrt(S[2,1]/n))\n",
        "paste(\"The lower bound L2: \",L2, \"/ The upper bound U2: \",U2)\n",
        "\n",
        "L3=Xbar[3,1]-(sqrt(((n-1)*p)/(n-p)*qf(1-alpha,p,n-p))*sqrt(S[3,1]/n))\n",
        "U3=Xbar[3,1]+(sqrt(((n-1)*p)/(n-p)*qf(1-alpha,p,n-p))*sqrt(S[3,1]/n))\n",
        "paste(\"The lower bound L3: \",L3, \"/ The upper bound U3: \",U3)"
      ],
      "execution_count": null,
      "outputs": []
    },
    {
      "cell_type": "markdown",
      "metadata": {
        "id": "rJ69jC6UzPJe"
      },
      "source": [
        "##Two sample"
      ]
    },
    {
      "cell_type": "code",
      "metadata": {
        "id": "zfHf71jsp46F"
      },
      "source": [
        "d1 = data.frame((SALARY[GENDER==0]),(AGE[GENDER==0]))\n",
        "d1"
      ],
      "execution_count": null,
      "outputs": []
    },
    {
      "cell_type": "markdown",
      "metadata": {
        "id": "B_neVqVt24aw"
      },
      "source": [
        "###กรณีความเเปรปรวนเท่า"
      ]
    },
    {
      "cell_type": "code",
      "metadata": {
        "id": "NInHEbJOokKW"
      },
      "source": [
        "X1 = data.frame((SALARY[GENDER==0]),(AGE[GENDER==0]),(INTERNET_PAY[GENDER==0]))\n",
        "X2 = data.frame((SALARY[GENDER==1]),(AGE[GENDER==1]),(INTERNET_PAY[GENDER==1]))\n",
        "Xbar1=colMeans(X1)\n",
        "Xbar1=matrix(Xbar1,3,1)\n",
        "Xbar2=colMeans(X2)\n",
        "Xbar2=matrix(Xbar2,3,1)\n",
        "S1=cov(X1)\n",
        "S2=cov(X2)\n",
        "n1=100\n",
        "n2=100\n",
        "Sp = ((n1-1)/(n1+n2-2)*S1) + ((n1-1)/(n1+n2-2)*S2)\n",
        "p =3\n",
        "alpha=0.05\n",
        "\n",
        "T2 = t(Xbar1-Xbar2) %*% solve(((1/n1)+(1/n2))*Sp) %*% (Xbar1-Xbar2)\n",
        "paste('THE T2 VALUE: ' , T2)\n",
        "\n",
        "cri_val = ((n1+n2-2)*p)/(n1+n2-p-1)*qf(1-alpha,p,n1+n2-p-1)\n",
        "paste('The critical value: ' , cri_val)\n",
        "\n",
        "if(T2 < Cri_val){\n",
        "      paste(\"We do not reject Ho\",alpha)\n",
        "}else{\n",
        "      paste(\"We reject Ho\",alpha)\n",
        "}"
      ],
      "execution_count": null,
      "outputs": []
    },
    {
      "cell_type": "code",
      "metadata": {
        "id": "VWrAL6k_vISP"
      },
      "source": [
        "L1 = (Xbar1[1]-Xbar2[1]) - (sqrt(cri_val)*sqrt(((1/n1)+(1/n2))*Sp[1,1]))\n",
        "paste('The Lower bound X1 : ' , L1)\n",
        "\n",
        "U1 = (Xbar1[1]-Xbar2[1]) + (sqrt(cri_val)*sqrt(((1/n1)+(1/n2))*Sp[1,1]))\n",
        "paste('The Lower bound X1 : ' , U1)\n",
        "\n",
        "L2 = (Xbar1[2]-Xbar2[2]) - (sqrt(cri_val)*sqrt(((1/50)+(1/50))*Sp[2,2]))\n",
        "paste('The Lower bound X2 : ' , L2)\n",
        "\n",
        "U2 = (Xbar1[2]-Xbar2[2]) + (sqrt(cri_val)*sqrt(((1/50)+(1/50))*Sp[2,2]))\n",
        "paste('The Lower bound X2 : ' , U2)"
      ],
      "execution_count": null,
      "outputs": []
    },
    {
      "cell_type": "markdown",
      "metadata": {
        "id": "zLn7X8wc3TOC"
      },
      "source": [
        "### กรณีความเเปรปรวนไม่เท่า"
      ]
    },
    {
      "cell_type": "code",
      "metadata": {
        "id": "54v3RMoL2tT0"
      },
      "source": [
        "X1 = data.frame((SALARY[GENDER==0]),(AGE[GENDER==0]),(INTERNET_PAY[GENDER==0]))\n",
        "X2 = data.frame((SALARY[GENDER==1]),(AGE[GENDER==1]),(INTERNET_PAY[GENDER==1]))\n",
        "Xbar1=colMeans(X1)\n",
        "Xbar1=matrix(Xbar1,3,1)\n",
        "Xbar2=colMeans(X2)\n",
        "Xbar2=matrix(Xbar2,3,1)\n",
        "S1=cov(X1)\n",
        "S2=cov(X2)\n",
        "n1=120\n",
        "n2=80\n",
        "S= (1/n1)*S1+(1/n2)*S2\n",
        "p =3\n",
        "alpha=0.05\n",
        "\n",
        "T2 = t(Xbar1-Xbar2) %*% solve(S) %*% (Xbar1-Xbar2)\n",
        "paste('THE T2 VALUE: ' , T2)\n",
        "\n",
        "cri_val = qchisq(1-alpha,3)\n",
        "paste('The critical value: ' , cri_val)\n",
        "\n",
        "if(T2 < Cri_val){\n",
        "      paste(\"We do not reject Ho\",alpha)\n",
        "}else{\n",
        "      paste(\"We reject Ho\",alpha)\n",
        "}"
      ],
      "execution_count": null,
      "outputs": []
    },
    {
      "cell_type": "markdown",
      "metadata": {
        "id": "rMBDgAaL5KIf"
      },
      "source": [
        "###กรณีทดสอบความเเปรปรวนเท่า"
      ]
    },
    {
      "cell_type": "code",
      "metadata": {
        "id": "ZQTqWqXj5P5v"
      },
      "source": [
        "X1 = data.frame((SALARY[GENDER==0]),(AGE[GENDER==0]),(INTERNET_PAY[GENDER==0]))\n",
        "X2 = data.frame((SALARY[GENDER==1]),(AGE[GENDER==1]),(INTERNET_PAY[GENDER==1]))\n",
        "Xbar1=colMeans(X1)\n",
        "Xbar1=matrix(Xbar1,3,1)\n",
        "Xbar2=colMeans(X2)\n",
        "Xbar2=matrix(Xbar2,3,1)\n",
        "S1=cov(X1)\n",
        "S2=cov(X2)\n",
        "n1=100\n",
        "n2=100\n",
        "g=2\n",
        "Sp = (((n1-1)*S1)+((n2-1)*S2))/(n1+n2-2)\n",
        "lnM = (1/2)*((n1-1)*log(det(S1)))+((n2-1)*log(det(S2)))-((1/2)*((n1-1+n2-1)*log(det(Sp))))\n",
        "paste(\"InM:\",lnM )\n",
        "c1 = ((1/n1-1)+(1/n2-1)-(1/(n1-1)+(n2-1))*(((2*(p^2))+(3*p)-1)/(6*(p+1)*(g-1))))\n",
        "p =3\n",
        "alpha=0.05\n",
        "U = -2*(1-c1) * lnM\n",
        "cri_val = qchisq(1-0.05,3)\n",
        "if(U < cri_val){\n",
        "    paste(\"since U =\",U,\"< Critical value = \" , cri_val ,',then do not reject H0.')\n",
        "}else if(U == cri_val){\n",
        "    paste(\"since U =\",U,\"= Critical value = \" , cri_val ,',then do not reject H0.')\n",
        "}else{\n",
        "    paste(\"since U =\",U,\"> Critical value = \" , cri_val ,',then  reject H0.')\n",
        "}"
      ],
      "execution_count": null,
      "outputs": []
    },
    {
      "cell_type": "code",
      "metadata": {
        "id": "q8QPgDTDl5fO"
      },
      "source": [
        "c2=(((1/(n1-1)^2)/(1/(n2-1)^2))-(1/(((n1-1)+(n2-1))^2)))*(((p-1)*(p+2))/(6*(g-1)))\n",
        "a1 = (1/2)*(g-1)*p*(p-1)\n",
        "a2 = (a1+2)/abs(c2-c1^2)\n",
        "b1 = (1-c1-(a1/a2))/a1\n",
        "b2 = (1-c1+(2/a2))/a2\n",
        "if(c2 > (c1^2)){\n",
        "  F= -2*b1*lnM\n",
        "}else if(c2<c1^2){\n",
        "  F = (-2*a2*b2*lnM)/(a1*(1+(2*b2*lnM)))\n",
        "}else{\n",
        "  F = NULL\n",
        "}\n",
        "cri_val = qf(1-alpha,a1,a2)\n",
        "if(is.null(F)==0){\n",
        "  if(F<cri_val){\n",
        "    paste(\"Since F =\",F,\"< critical value = \" , cri_val,\",then do not reject H0.\")\n",
        "  }else if(F == cri_val){\n",
        "    paste(\"since F =\",F,\"= Critical value = \" , cri_val ,',then do not reject H0.')\n",
        "  }else{\n",
        "    paste(\"since F =\",F,\"> Critical value = \" , cri_val ,',then  reject H0.')\n",
        "  }\n",
        "}else{\n",
        "  print(\"We cannot conclude the distribution of F.\")\n",
        "}"
      ],
      "execution_count": null,
      "outputs": []
    },
    {
      "cell_type": "markdown",
      "metadata": {
        "id": "uLwZIIi-5ET_"
      },
      "source": [
        "##2 กลุ่ม มีความสัมพันธ์\n"
      ]
    },
    {
      "cell_type": "code",
      "metadata": {
        "id": "HFBjqSEu3reC"
      },
      "source": [
        "dD1 = read.csv('sample_data/เวิร์กบุ๊ก2.csv',header = 1)\n",
        "head(dD1)"
      ],
      "execution_count": null,
      "outputs": []
    },
    {
      "cell_type": "code",
      "metadata": {
        "id": "cqhmwNt29URe"
      },
      "source": [
        "attach(dD1)"
      ],
      "execution_count": null,
      "outputs": []
    },
    {
      "cell_type": "code",
      "metadata": {
        "id": "vuirUBtp_Y5o"
      },
      "source": [
        "si_pre[G==1]"
      ],
      "execution_count": null,
      "outputs": []
    },
    {
      "cell_type": "code",
      "metadata": {
        "id": "yMOcAv5P9OgJ"
      },
      "source": [
        "D = data.frame(si_pre[G==1],si_post[G==1],sf_pre[G==1],sf_post[G==1])\n",
        "D"
      ],
      "execution_count": null,
      "outputs": []
    },
    {
      "cell_type": "code",
      "metadata": {
        "id": "FjYXadJqFoFQ"
      },
      "source": [
        "Sd=cov(d)\n",
        "Sd"
      ],
      "execution_count": null,
      "outputs": []
    },
    {
      "cell_type": "code",
      "metadata": {
        "id": "GBRDHUdO96ln"
      },
      "source": [
        "X1 = data.frame(si_pre[G==1],si_post[G==1])\n",
        "X2 = data.frame(sf_pre[G==1],sf_post[G==1])\n",
        "d = X1-X2\n",
        "dmean=colMeans(d)\n",
        "dbar =matrix(c(dmean[1],dmean[2]),2,1)\n",
        "Sd=cov(d)\n",
        "n =10\n",
        "p =2\n",
        "alpha=0.05\n",
        "#####################\n",
        "T2=n*t(dbar)%*%solve(Sd)%*%dbar\n",
        "paste(\"Hotelling’s T2:\",T2)\n",
        "#####################\n",
        "cri_val=((n-1)*(p)/(n-p))*qf(1-alpha,p,n-p)\n",
        "paste(\"Critical value: \",cri_val)\n",
        "####################\n",
        "if(T2 < Cri_val){\n",
        "      paste(\"We do not reject Ho\",alpha)\n",
        "}else{\n",
        "      paste(\"We reject Ho\",alpha)\n",
        "}"
      ],
      "execution_count": null,
      "outputs": []
    },
    {
      "cell_type": "code",
      "metadata": {
        "id": "7yqlIwc4EueM"
      },
      "source": [
        "L1 = dbar[1,1] - (sqrt(((n-1)*p/(n-p) *qf(1-alpha,p,n-p))) * sqrt(Sd[1,1]/n))\n",
        "paste('The Lower bound L1: ' , L1)\n",
        "\n",
        "U1 = dbar[1,1] + (sqrt(((n-1)*2/(n-p) *qf(1-alpha,p,n-p))) * sqrt(Sd[1,1]/n))\n",
        "paste('The Lower bound U1: ' , U1)\n",
        "\n",
        "L2 = dbar[2,1] - (sqrt(((n-1)*2/(n-p) *qf(1-alpha,p,n-p))) * sqrt(Sd[2,1]/n))\n",
        "paste('The Lower bound L2: ' , L2)\n",
        "\n",
        "U2 = dbar[2,1] + (sqrt(((n-1)*2/(n-p) *qf(1-alpha,p,n-p))) * sqrt(Sd[2,1]/n))\n",
        "paste('The Lower bound U2: ' , U2)\n"
      ],
      "execution_count": null,
      "outputs": []
    },
    {
      "cell_type": "markdown",
      "metadata": {
        "id": "Ky2Egkqx0SoW"
      },
      "source": [
        "###MANOVA"
      ]
    },
    {
      "cell_type": "code",
      "metadata": {
        "id": "noRJmODQ0U2v"
      },
      "source": [
        "d1 = read.csv('sample_data/88888888.csv',header = 1)\n",
        "d1"
      ],
      "execution_count": null,
      "outputs": []
    },
    {
      "cell_type": "code",
      "metadata": {
        "id": "GoFvK-pXGxlJ"
      },
      "source": [
        "attach(d1)"
      ],
      "execution_count": null,
      "outputs": []
    },
    {
      "cell_type": "markdown",
      "metadata": {
        "id": "71uXROONVFIX"
      },
      "source": [
        "#### Distribution of Wilks'lamda\n",
        "   -    p =2\n",
        "   -    g >=2\n",
        "\n"
      ]
    },
    {
      "cell_type": "code",
      "metadata": {
        "id": "7SbptRuXYxfq"
      },
      "source": [
        "\n",
        "n1 = length(x1[,1])\n",
        "n2 = length(x2[,1])\n",
        "n3 = length(x3[,1])\n",
        "n = n1+n2+n3\n",
        "n\n",
        "n1\n",
        "n2\n",
        "n3"
      ],
      "execution_count": null,
      "outputs": []
    },
    {
      "cell_type": "code",
      "metadata": {
        "id": "eDePaVoW2uPv"
      },
      "source": [
        "G1 = data.frame(brain_damage,stupidity_index)\n",
        "G2 = data.frame(brain_damage.1,stupidity_index.1)\n",
        "G3 = data.frame(brain_damage.2,stupidity_index.2)\n",
        "g=3\n",
        "\n",
        "n1 = length(x1[,1])\n",
        "n2 = length(x2[,1])\n",
        "n3 = length(x3[,1])\n",
        "n = n1+n2+n3\n",
        "\n",
        "x1bar = colMeans(G1)\n",
        "x2bar = colMeans(G2)\n",
        "x3bar = colMeans(G3)\n",
        "\n",
        "s1 = cov(G1)\n",
        "s2 = cov(G2)\n",
        "s3 = cov(G3)\n",
        "\n",
        "p = 2\n",
        "alpha =0.05\n",
        "\n",
        "w = (n1-1)*s1+(n2-1)*s2+(n3-1)*s3\n",
        "\n",
        "xbar = (n1*x1bar+n2*x2bar+n3*x3bar)/(n1+n2+n3)\n",
        "\n",
        "B = (n1+(x1bar-xbar)%*%t(x1bar-xbar))+(n2+(x2bar-xbar)%*%t(x2bar-xbar))+(n3+(x3bar-xbar)%*%t(x3bar-xbar))\n",
        "\n",
        "lamda = det(w)/det(B+w)\n",
        "\n",
        "comp_val = ((n-g-1)/(g-1))*((1-sqrt(lamda))/sqrt(lamda))\n",
        "paste(\"computer calculate : \",comp_val)\n",
        "\n",
        "cri_val = qf(1-alpha,(2*(g-1)),((2*n)-g-1))\n",
        "paste(\"Critical value: \",cri_val)\n",
        "####################\n",
        "if(comp_val < Cri_val){\n",
        "      paste(\"We do not reject Ho\",alpha)\n",
        "}else{\n",
        "      paste(\"We reject Ho\",alpha)\n",
        "}"
      ],
      "execution_count": null,
      "outputs": []
    },
    {
      "cell_type": "markdown",
      "metadata": {
        "id": "VzSR4nHUWZTm"
      },
      "source": [
        "#### Distribution of Wilks'lamda\n",
        "   -    p =6\n",
        "   -    g >=2\n",
        "\n"
      ]
    },
    {
      "cell_type": "code",
      "metadata": {
        "id": "dTeGSTqXUW60"
      },
      "source": [
        "dD2 = read.csv('sample_data/เวิร์กบุ๊ก2.csv',header = 1)\n",
        "head(dD2)"
      ],
      "execution_count": null,
      "outputs": []
    },
    {
      "cell_type": "code",
      "metadata": {
        "id": "op0YXQZ2WrUT"
      },
      "source": [
        "G_1 = data.frame(si_pre[G==1],si_post[G==1],sf_pre[G==1],sf_post[G==1],oa_pre[G==1],oa_post[G==1])\n",
        "G_2 = data.frame(si_pre[G==2],si_post[G==2],sf_pre[G==2],sf_post[G==2],oa_pre[G==2],oa_post[G==2])\n",
        "G_3 = data.frame(si_pre[G==3],si_post[G==3],sf_pre[G==3],sf_post[G==3],oa_pre[G==3],oa_post[G==3])\n",
        "G_4 = data.frame(si_pre[G==4],si_post[G==4],sf_pre[G==4],sf_post[G==4],oa_pre[G==4],oa_post[G==4])\n",
        "g=4"
      ],
      "execution_count": null,
      "outputs": []
    },
    {
      "cell_type": "code",
      "metadata": {
        "id": "HXYfW1XwZUfc"
      },
      "source": [
        "n_1 = length(X1[,1])\n",
        "n_2 = length(X2[,1])\n",
        "n_3 = length(X3[,1])\n",
        "n_4 = length(X4[,1])\n",
        "n_0 = n_1+n_2+n_3+n_4"
      ],
      "execution_count": null,
      "outputs": []
    },
    {
      "cell_type": "code",
      "metadata": {
        "id": "2_JJsENHXgxW"
      },
      "source": [
        "x1bar = colMeans(G_1)\n",
        "x2bar = colMeans(G_2 )\n",
        "x3bar = colMeans(G_3)\n",
        "x4bar = colMeans(G_4)\n",
        "\n",
        "s1 = cov(G_1)\n",
        "s2 = cov(G_2)\n",
        "s3 = cov(G_3)\n",
        "s4 = cov(G_4)\n",
        "\n",
        "p = 6\n",
        "alpha =0.05"
      ],
      "execution_count": null,
      "outputs": []
    },
    {
      "cell_type": "code",
      "metadata": {
        "id": "tAox-2IGXkGj"
      },
      "source": [
        "w = (n1-1)*s1+(n2-1)*s2+(n3-1)*s4+(n3-1)*s4\n",
        "\n",
        "xbar = (n1*x1bar+n2*x2bar+n3*x3bar+n3*x3bar)/(n1+n2+n3+n4)\n",
        "\n",
        "B = (n1+(x1bar-xbar)%*%t(x1bar-xbar))+(n2+(x2bar-xbar)%*%t(x2bar-xbar))+(n3+(x3bar-xbar)%*%t(x3bar-xbar))+(n4+(x4bar-xbar)%*%t(x4bar-xbar))\n",
        "\n",
        "lamda = det(w)/det(B+w)"
      ],
      "execution_count": null,
      "outputs": []
    },
    {
      "cell_type": "code",
      "metadata": {
        "id": "TjTwcOKJgEaw"
      },
      "source": [
        "comp_val = ((n-g-1)/(g-1))*((1-sqrt(lamda))/sqrt(lamda))\n",
        "paste(\"computer calculate : \",comp_val)\n",
        "\n",
        "cri_val = qf(1-alpha,(2*(g-1)),((2*n)-g-1))\n",
        "paste(\"Critical value: \",cri_val)\n",
        "####################\n",
        "if(comp_val < Cri_val){\n",
        "      paste(\"We do not reject Ho\",alpha)\n",
        "}else{\n",
        "      paste(\"We reject Ho\",alpha)\n",
        "}"
      ],
      "execution_count": null,
      "outputs": []
    }
  ]
}