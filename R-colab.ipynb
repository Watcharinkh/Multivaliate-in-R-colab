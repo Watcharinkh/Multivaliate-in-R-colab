{
  "nbformat": 4,
  "nbformat_minor": 0,
  "metadata": {
    "colab": {
      "name": "Untitled6.ipynb",
      "private_outputs": true,
      "provenance": [],
      "authorship_tag": "ABX9TyOaaQtn54swKUCzbCARHmf1",
      "include_colab_link": true
    },
    "kernelspec": {
      "name": "ir",
      "display_name": "R"
    },
    "language_info": {
      "name": "R"
    }
  },
  "cells": [
    {
      "cell_type": "markdown",
      "metadata": {
        "id": "view-in-github",
        "colab_type": "text"
      },
      "source": [
        "<a href=\"https://colab.research.google.com/github/Watcharinkh/Multivaliate-in-R-colab/blob/main/R-colab.ipynb\" target=\"_parent\"><img src=\"https://colab.research.google.com/assets/colab-badge.svg\" alt=\"Open In Colab\"/></a>"
      ]
    },
    {
      "cell_type": "code",
      "metadata": {
        "id": "R5llMpFvMxIg"
      },
      "source": [
        "data = read.csv('sample_data/Data_Facebook_R (2).csv',header = 1)\n",
        "data"
      ],
      "execution_count": null,
      "outputs": []
    },
    {
      "cell_type": "code",
      "metadata": {
        "id": "t85oDFHaV2UA"
      },
      "source": [
        "data1 = read.csv('sample_data/Data_Facebook_R.csv',header = T)\n",
        "data1"
      ],
      "execution_count": null,
      "outputs": []
    },
    {
      "cell_type": "code",
      "metadata": {
        "id": "-pZybEQPW2Bp"
      },
      "source": [
        "data2 = data.frame(data[3],data[6],data[7])\n",
        "data2"
      ],
      "execution_count": null,
      "outputs": []
    },
    {
      "cell_type": "code",
      "metadata": {
        "id": "wQFdUYz8ZblA"
      },
      "source": [
        "mu=matrix(c(22.75,17888,582),3,1)\n",
        "X=data2\n",
        "Xbar=colMeans(X)\n",
        "Xbar=matrix(Xbar,3,1)\n",
        "S=cov(X)\n",
        "n=200\n",
        "p=3\n",
        "alpha=0.05\n",
        "#####################\n",
        "T2=n*t(Xbar-mu)%*%solve(S)%*%(Xbar-mu)\n",
        "paste(\"Hotelling’s T2:\",T2)\n",
        "#####################\n",
        "Cri_val=((n-1)*p)/(n-p)*qf(1-alpha,p,n-p)\n",
        "paste(\"Critical value: \",Cri_val)\n",
        "####################\n",
        "if(T2 < Cri_val){\n",
        "      paste(\"We do not reject Ho\",alpha)\n",
        "}else{\n",
        "      paste(\"We reject Ho\",alpha)\n",
        "}"
      ],
      "execution_count": null,
      "outputs": []
    },
    {
      "cell_type": "code",
      "metadata": {
        "id": "gIwYlx2Kbbg0"
      },
      "source": [
        "L1=Xbar[1,1]-(sqrt(((200-1)*3)/(200-3)*qf(1-0.05,3,197))*sqrt(S[1,1]/200))\n",
        "U1=Xbar[1,1]+(sqrt(((200-1)*3)/(200-3)*qf(1-0.05,3,197))*sqrt(S[1,1]/200))\n",
        "paste(\"The lower bound L1: \",L1, \"/ The upper bound U1: \",U1)\n",
        "L2=Xbar[2,1]-(sqrt(((200-1)*3)/(200-3)*qf(1-0.05,3,197))*sqrt(S[2,1]/200))\n",
        "U2=Xbar[2,1]+(sqrt(((200-1)*3)/(200-3)*qf(1-0.05,3,197))*sqrt(S[2,1]/200))\n",
        "paste(\"The lower bound L2: \",L1, \"/ The upper bound U1: \",U2)\n",
        "L3=Xbar[3,1]-(sqrt(((200-1)*3)/(200-3)*qf(1-0.05,3,197))*sqrt(S[3,1]/200))\n",
        "U3=Xbar[3,1]+(sqrt(((200-1)*3)/(200-3)*qf(1-0.05,3,197))*sqrt(S[3,1]/200))\n",
        "paste(\"The lower bound L2: \",L3, \"/ The upper bound U1: \",U3)"
      ],
      "execution_count": null,
      "outputs": []
    },
    {
      "cell_type": "code",
      "metadata": {
        "id": "X5-TrgWXkOT6"
      },
      "source": [
        "X1 = data.frame(data3[1]==0, data3[2],data3[3])\n",
        "X1"
      ],
      "execution_count": null,
      "outputs": []
    },
    {
      "cell_type": "markdown",
      "metadata": {
        "id": "rJ69jC6UzPJe"
      },
      "source": [
        "2 กลุ่ม"
      ]
    },
    {
      "cell_type": "code",
      "metadata": {
        "id": "iBGq53xSk5oF"
      },
      "source": [
        "attach(data)\n",
        "head(data)"
      ],
      "execution_count": null,
      "outputs": []
    },
    {
      "cell_type": "code",
      "metadata": {
        "id": "zfHf71jsp46F"
      },
      "source": [
        "d1 = data.frame((SALARY[GENDER==0]),(AGE[GENDER==0]))\n",
        "d1"
      ],
      "execution_count": null,
      "outputs": []
    },
    {
      "cell_type": "code",
      "metadata": {
        "id": "vtjKKP7QyPz7"
      },
      "source": [
        "Xbar1=colMeans(X1)\n",
        "Xbar1"
      ],
      "execution_count": null,
      "outputs": []
    },
    {
      "cell_type": "code",
      "metadata": {
        "id": "3RebEegXyXxa"
      },
      "source": [
        "X1 = data.frame((SALARY[GENDER==0]),(INTERNET_PAY[GENDER==0]))\n",
        "X2 = data.frame((SALARY[GENDER==0]),(INTERNET_PAY[GENDER==0]))\n",
        "X1\n",
        "X2"
      ],
      "execution_count": null,
      "outputs": []
    },
    {
      "cell_type": "markdown",
      "metadata": {
        "id": "B_neVqVt24aw"
      },
      "source": [
        "กรณีความเเปรปรวนเท่า"
      ]
    },
    {
      "cell_type": "code",
      "metadata": {
        "id": "NInHEbJOokKW"
      },
      "source": [
        "X1 = data.frame((SALARY[GENDER==0]),(AGE[GENDER==0]),(INTERNET_PAY[GENDER==0]))\n",
        "X2 = data.frame((SALARY[GENDER==1]),(AGE[GENDER==1]),(INTERNET_PAY[GENDER==1]))\n",
        "Xbar1=colMeans(X1)\n",
        "Xbar1=matrix(Xbar1,3,1)\n",
        "Xbar2=colMeans(X2)\n",
        "Xbar2=matrix(Xbar2,3,1)\n",
        "S1=cov(X1)\n",
        "S2=cov(X2)\n",
        "n1=100\n",
        "n2=100\n",
        "Sp = ((n1-1)/(n1+n2-2)*S1) + ((n1-1)/(n1+n2-2)*S2)\n",
        "p =3\n",
        "alpha=0.05\n",
        "\n",
        "T2 = t(Xbar1-Xbar2) %*% solve(((1/n1)+(1/n2))*Sp) %*% (Xbar1-Xbar2)\n",
        "paste('THE T2 VALUE: ' , T2)\n",
        "\n",
        "cri_val = ((n1+n2-2)*p)/(n1+n2-p-1)*qf(1-alpha,p,n1+n2-p-1)\n",
        "paste('The critical value: ' , cri_val)\n",
        "\n",
        "if(T2 < Cri_val){\n",
        "      paste(\"We do not reject Ho\",alpha)\n",
        "}else{\n",
        "      paste(\"We reject Ho\",alpha)\n",
        "}"
      ],
      "execution_count": null,
      "outputs": []
    },
    {
      "cell_type": "code",
      "metadata": {
        "id": "VWrAL6k_vISP"
      },
      "source": [
        "L1 = (Xbar1[1]-Xbar2[1]) - (sqrt(cri_val)*sqrt(((1/n1)+(1/n2))*Sp[1,1]))\n",
        "paste('The Lower bound X1 : ' , L1)\n",
        "\n",
        "U1 = (Xbar1[1]-Xbar2[1]) + (sqrt(cri_val)*sqrt(((1/n1)+(1/n2))*Sp[1,1]))\n",
        "paste('The Lower bound X1 : ' , U1)\n",
        "\n",
        "L2 = (Xbar1[2]-Xbar2[2]) - (sqrt(cri_val)*sqrt(((1/50)+(1/50))*Sp[2,2]))\n",
        "paste('The Lower bound X2 : ' , L2)\n",
        "\n",
        "U2 = (Xbar1[2]-Xbar2[2]) + (sqrt(cri_val)*sqrt(((1/50)+(1/50))*Sp[2,2]))\n",
        "paste('The Lower bound X2 : ' , U2)"
      ],
      "execution_count": null,
      "outputs": []
    },
    {
      "cell_type": "markdown",
      "metadata": {
        "id": "zLn7X8wc3TOC"
      },
      "source": [
        " กรณีความเเปรปรวนไม่เท่า"
      ]
    },
    {
      "cell_type": "code",
      "metadata": {
        "id": "54v3RMoL2tT0"
      },
      "source": [
        "X1 = data.frame((SALARY[GENDER==0]),(AGE[GENDER==0]),(INTERNET_PAY[GENDER==0]))\n",
        "X2 = data.frame((SALARY[GENDER==1]),(AGE[GENDER==1]),(INTERNET_PAY[GENDER==1]))\n",
        "Xbar1=colMeans(X1)\n",
        "Xbar1=matrix(Xbar1,3,1)\n",
        "Xbar2=colMeans(X2)\n",
        "Xbar2=matrix(Xbar2,3,1)\n",
        "S1=cov(X1)\n",
        "S2=cov(X2)\n",
        "n1=120\n",
        "n2=80\n",
        "S= (1/n1)*S1+(1/n2)*S2\n",
        "p =3\n",
        "alpha=0.05\n",
        "\n",
        "T2 = t(Xbar1-Xbar2) %*% solve(S) %*% (Xbar1-Xbar2)\n",
        "paste('THE T2 VALUE: ' , T2)\n",
        "\n",
        "cri_val = qchisq(1-alpha,3)\n",
        "paste('The critical value: ' , cri_val)\n",
        "\n",
        "if(T2 < Cri_val){\n",
        "      paste(\"We do not reject Ho\",alpha)\n",
        "}else{\n",
        "      paste(\"We reject Ho\",alpha)\n",
        "}"
      ],
      "execution_count": null,
      "outputs": []
    },
    {
      "cell_type": "markdown",
      "metadata": {
        "id": "rMBDgAaL5KIf"
      },
      "source": [
        "กรณีทดสอบความเเปรปรวนเท่า"
      ]
    },
    {
      "cell_type": "code",
      "metadata": {
        "id": "ZQTqWqXj5P5v"
      },
      "source": [
        "X1 = data.frame((SALARY[GENDER==0]),(AGE[GENDER==0]),(INTERNET_PAY[GENDER==0]))\n",
        "X2 = data.frame((SALARY[GENDER==1]),(AGE[GENDER==1]),(INTERNET_PAY[GENDER==1]))\n",
        "Xbar1=colMeans(X1)\n",
        "Xbar1=matrix(Xbar1,3,1)\n",
        "Xbar2=colMeans(X2)\n",
        "Xbar2=matrix(Xbar2,3,1)\n",
        "S1=cov(X1)\n",
        "S2=cov(X2)\n",
        "n1=100\n",
        "n2=100\n",
        "Sp = (((n1-1)*S1)+((n2-1)*S2))/(n1+n2-2)\n",
        "lnM = (1/2)*((n1-1)*log(det(S1)))+((n2-1)*log(det(S2)))-((1/2)*((n1-1+n2-1)*log(det(Sp))))\n",
        "paste(\"InM:\",lnM )\n",
        "c1 = ((1/n1-1)+(1/n2-1)-(1/(n1-1)+(n2-1))*(((2*9)+(3*3)-1)/(6*(3+1)*(2-1))))\n",
        "p =3\n",
        "alpha=0.05\n",
        "U = -2*(1-c1) * lnM\n",
        "cri_val = qchisq(1-0.05,3)\n",
        "if(U < cri_val){\n",
        "    paste(\"since U =\",U,\"< Critical value = \" , cri_val ,',then do not reject H0.')\n",
        "}else if(U == cri_val){\n",
        "    paste(\"since U =\",U,\"= Critical value = \" , cri_val ,',then do not reject H0.')\n",
        "}else{\n",
        "    paste(\"since U =\",U,\"> Critical value = \" , cri_val ,',then  reject H0.')\n",
        "}"
      ],
      "execution_count": null,
      "outputs": []
    },
    {
      "cell_type": "code",
      "metadata": {
        "id": "cAmcTvhTA3v3"
      },
      "source": [
        ""
      ],
      "execution_count": null,
      "outputs": []
    },
    {
      "cell_type": "markdown",
      "metadata": {
        "id": "uLwZIIi-5ET_"
      },
      "source": [
        "2 กลุ่ม มีความสัมพันธ์\n"
      ]
    },
    {
      "cell_type": "code",
      "metadata": {
        "id": "HFBjqSEu3reC"
      },
      "source": [
        ""
      ],
      "execution_count": null,
      "outputs": []
    }
  ]
}